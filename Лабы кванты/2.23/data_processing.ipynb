{
 "cells": [
  {
   "cell_type": "code",
   "execution_count": 50,
   "source": [
    "import matplotlib.pyplot as plt\r\n",
    "import numpy as np\r\n",
    "import pandas as pd\r\n",
    "from scipy.optimize import curve_fit\r\n",
    "from scipy import optimize\r\n",
    "import matplotlib.ticker as ticker"
   ],
   "outputs": [],
   "metadata": {}
  },
  {
   "cell_type": "code",
   "execution_count": 51,
   "source": [
    "h = 6.62607015 * 10**(-34)"
   ],
   "outputs": [],
   "metadata": {}
  },
  {
   "cell_type": "code",
   "execution_count": 54,
   "source": [
    "data = pd.read_excel('data.xlsx')\r\n",
    "NeonA = np.array(data['Neon, A'])\r\n",
    "NeonC = np.array(data['Neon, C'])\r\n",
    "HgA = np.array(data['Hg, A'].dropna())\r\n",
    "HgC = np.array(data['Hg'].dropna())\r\n",
    "Lambda = np.concatenate([NeonA, HgA])\r\n",
    "Angle = np.concatenate([NeonC, HgC])\r\n",
    "\r\n",
    "data"
   ],
   "outputs": [
    {
     "output_type": "execute_result",
     "data": {
      "text/html": [
       "<div>\n",
       "<style scoped>\n",
       "    .dataframe tbody tr th:only-of-type {\n",
       "        vertical-align: middle;\n",
       "    }\n",
       "\n",
       "    .dataframe tbody tr th {\n",
       "        vertical-align: top;\n",
       "    }\n",
       "\n",
       "    .dataframe thead th {\n",
       "        text-align: right;\n",
       "    }\n",
       "</style>\n",
       "<table border=\"1\" class=\"dataframe\">\n",
       "  <thead>\n",
       "    <tr style=\"text-align: right;\">\n",
       "      <th></th>\n",
       "      <th>Neon, A</th>\n",
       "      <th>Neon, C</th>\n",
       "      <th>Unnamed: 2</th>\n",
       "      <th>Hg, A</th>\n",
       "      <th>Hg</th>\n",
       "      <th>Unnamed: 5</th>\n",
       "      <th>H</th>\n",
       "      <th>H.1</th>\n",
       "      <th>H.2</th>\n",
       "      <th>Unnamed: 9</th>\n",
       "      <th>h</th>\n",
       "      <th>angle</th>\n",
       "      <th>lambda</th>\n",
       "    </tr>\n",
       "  </thead>\n",
       "  <tbody>\n",
       "    <tr>\n",
       "      <th>0</th>\n",
       "      <td>5331</td>\n",
       "      <td>2182</td>\n",
       "      <td>NaN</td>\n",
       "      <td>4047.0</td>\n",
       "      <td>620.0</td>\n",
       "      <td>NaN</td>\n",
       "      <td>H</td>\n",
       "      <td>2800.0</td>\n",
       "      <td>NaN</td>\n",
       "      <td>NaN</td>\n",
       "      <td>h</td>\n",
       "      <td>2656.0</td>\n",
       "      <td>NaN</td>\n",
       "    </tr>\n",
       "    <tr>\n",
       "      <th>1</th>\n",
       "      <td>5341</td>\n",
       "      <td>2193</td>\n",
       "      <td>NaN</td>\n",
       "      <td>4358.0</td>\n",
       "      <td>1169.0</td>\n",
       "      <td>NaN</td>\n",
       "      <td>H</td>\n",
       "      <td>1790.0</td>\n",
       "      <td>NaN</td>\n",
       "      <td>NaN</td>\n",
       "      <td>h</td>\n",
       "      <td>2551.0</td>\n",
       "      <td>NaN</td>\n",
       "    </tr>\n",
       "    <tr>\n",
       "      <th>2</th>\n",
       "      <td>5401</td>\n",
       "      <td>2232</td>\n",
       "      <td>NaN</td>\n",
       "      <td>4916.0</td>\n",
       "      <td>1845.0</td>\n",
       "      <td>NaN</td>\n",
       "      <td>H</td>\n",
       "      <td>1142.0</td>\n",
       "      <td>NaN</td>\n",
       "      <td>NaN</td>\n",
       "      <td>h</td>\n",
       "      <td>1973.0</td>\n",
       "      <td>NaN</td>\n",
       "    </tr>\n",
       "    <tr>\n",
       "      <th>3</th>\n",
       "      <td>5852</td>\n",
       "      <td>2498</td>\n",
       "      <td>NaN</td>\n",
       "      <td>5461.0</td>\n",
       "      <td>2272.0</td>\n",
       "      <td>NaN</td>\n",
       "      <td>H</td>\n",
       "      <td>716.0</td>\n",
       "      <td>NaN</td>\n",
       "      <td>NaN</td>\n",
       "      <td>NaN</td>\n",
       "      <td>NaN</td>\n",
       "      <td>NaN</td>\n",
       "    </tr>\n",
       "    <tr>\n",
       "      <th>4</th>\n",
       "      <td>5882</td>\n",
       "      <td>2515</td>\n",
       "      <td>NaN</td>\n",
       "      <td>5770.0</td>\n",
       "      <td>2452.0</td>\n",
       "      <td>NaN</td>\n",
       "      <td>NaN</td>\n",
       "      <td>NaN</td>\n",
       "      <td>NaN</td>\n",
       "      <td>NaN</td>\n",
       "      <td>NaN</td>\n",
       "      <td>NaN</td>\n",
       "      <td>NaN</td>\n",
       "    </tr>\n",
       "    <tr>\n",
       "      <th>5</th>\n",
       "      <td>5945</td>\n",
       "      <td>2548</td>\n",
       "      <td>NaN</td>\n",
       "      <td>5791.0</td>\n",
       "      <td>2463.0</td>\n",
       "      <td>NaN</td>\n",
       "      <td>NaN</td>\n",
       "      <td>NaN</td>\n",
       "      <td>NaN</td>\n",
       "      <td>NaN</td>\n",
       "      <td>NaN</td>\n",
       "      <td>NaN</td>\n",
       "      <td>NaN</td>\n",
       "    </tr>\n",
       "    <tr>\n",
       "      <th>6</th>\n",
       "      <td>5976</td>\n",
       "      <td>2561</td>\n",
       "      <td>NaN</td>\n",
       "      <td>6234.0</td>\n",
       "      <td>2673.0</td>\n",
       "      <td>NaN</td>\n",
       "      <td>NaN</td>\n",
       "      <td>NaN</td>\n",
       "      <td>NaN</td>\n",
       "      <td>NaN</td>\n",
       "      <td>NaN</td>\n",
       "      <td>NaN</td>\n",
       "      <td>NaN</td>\n",
       "    </tr>\n",
       "    <tr>\n",
       "      <th>7</th>\n",
       "      <td>6030</td>\n",
       "      <td>2587</td>\n",
       "      <td>NaN</td>\n",
       "      <td>6907.0</td>\n",
       "      <td>2910.0</td>\n",
       "      <td>NaN</td>\n",
       "      <td>NaN</td>\n",
       "      <td>NaN</td>\n",
       "      <td>NaN</td>\n",
       "      <td>NaN</td>\n",
       "      <td>NaN</td>\n",
       "      <td>NaN</td>\n",
       "      <td>NaN</td>\n",
       "    </tr>\n",
       "    <tr>\n",
       "      <th>8</th>\n",
       "      <td>6074</td>\n",
       "      <td>2606</td>\n",
       "      <td>NaN</td>\n",
       "      <td>NaN</td>\n",
       "      <td>NaN</td>\n",
       "      <td>NaN</td>\n",
       "      <td>NaN</td>\n",
       "      <td>NaN</td>\n",
       "      <td>NaN</td>\n",
       "      <td>NaN</td>\n",
       "      <td>NaN</td>\n",
       "      <td>NaN</td>\n",
       "      <td>NaN</td>\n",
       "    </tr>\n",
       "    <tr>\n",
       "      <th>9</th>\n",
       "      <td>6096</td>\n",
       "      <td>2616</td>\n",
       "      <td>NaN</td>\n",
       "      <td>NaN</td>\n",
       "      <td>NaN</td>\n",
       "      <td>NaN</td>\n",
       "      <td>NaN</td>\n",
       "      <td>NaN</td>\n",
       "      <td>NaN</td>\n",
       "      <td>NaN</td>\n",
       "      <td>NaN</td>\n",
       "      <td>NaN</td>\n",
       "      <td>NaN</td>\n",
       "    </tr>\n",
       "    <tr>\n",
       "      <th>10</th>\n",
       "      <td>6143</td>\n",
       "      <td>2635</td>\n",
       "      <td>NaN</td>\n",
       "      <td>NaN</td>\n",
       "      <td>NaN</td>\n",
       "      <td>NaN</td>\n",
       "      <td>NaN</td>\n",
       "      <td>NaN</td>\n",
       "      <td>NaN</td>\n",
       "      <td>NaN</td>\n",
       "      <td>NaN</td>\n",
       "      <td>NaN</td>\n",
       "      <td>NaN</td>\n",
       "    </tr>\n",
       "    <tr>\n",
       "      <th>11</th>\n",
       "      <td>6164</td>\n",
       "      <td>2644</td>\n",
       "      <td>NaN</td>\n",
       "      <td>NaN</td>\n",
       "      <td>NaN</td>\n",
       "      <td>NaN</td>\n",
       "      <td>NaN</td>\n",
       "      <td>NaN</td>\n",
       "      <td>NaN</td>\n",
       "      <td>NaN</td>\n",
       "      <td>NaN</td>\n",
       "      <td>NaN</td>\n",
       "      <td>NaN</td>\n",
       "    </tr>\n",
       "    <tr>\n",
       "      <th>12</th>\n",
       "      <td>6217</td>\n",
       "      <td>2670</td>\n",
       "      <td>NaN</td>\n",
       "      <td>NaN</td>\n",
       "      <td>NaN</td>\n",
       "      <td>NaN</td>\n",
       "      <td>NaN</td>\n",
       "      <td>NaN</td>\n",
       "      <td>NaN</td>\n",
       "      <td>NaN</td>\n",
       "      <td>NaN</td>\n",
       "      <td>NaN</td>\n",
       "      <td>NaN</td>\n",
       "    </tr>\n",
       "    <tr>\n",
       "      <th>13</th>\n",
       "      <td>6267</td>\n",
       "      <td>2690</td>\n",
       "      <td>NaN</td>\n",
       "      <td>NaN</td>\n",
       "      <td>NaN</td>\n",
       "      <td>NaN</td>\n",
       "      <td>NaN</td>\n",
       "      <td>NaN</td>\n",
       "      <td>NaN</td>\n",
       "      <td>NaN</td>\n",
       "      <td>NaN</td>\n",
       "      <td>NaN</td>\n",
       "      <td>NaN</td>\n",
       "    </tr>\n",
       "    <tr>\n",
       "      <th>14</th>\n",
       "      <td>6305</td>\n",
       "      <td>2705</td>\n",
       "      <td>NaN</td>\n",
       "      <td>NaN</td>\n",
       "      <td>NaN</td>\n",
       "      <td>NaN</td>\n",
       "      <td>NaN</td>\n",
       "      <td>NaN</td>\n",
       "      <td>NaN</td>\n",
       "      <td>NaN</td>\n",
       "      <td>NaN</td>\n",
       "      <td>NaN</td>\n",
       "      <td>NaN</td>\n",
       "    </tr>\n",
       "    <tr>\n",
       "      <th>15</th>\n",
       "      <td>6334</td>\n",
       "      <td>2716</td>\n",
       "      <td>NaN</td>\n",
       "      <td>NaN</td>\n",
       "      <td>NaN</td>\n",
       "      <td>NaN</td>\n",
       "      <td>NaN</td>\n",
       "      <td>NaN</td>\n",
       "      <td>NaN</td>\n",
       "      <td>NaN</td>\n",
       "      <td>NaN</td>\n",
       "      <td>NaN</td>\n",
       "      <td>NaN</td>\n",
       "    </tr>\n",
       "    <tr>\n",
       "      <th>16</th>\n",
       "      <td>6383</td>\n",
       "      <td>2736</td>\n",
       "      <td>NaN</td>\n",
       "      <td>NaN</td>\n",
       "      <td>NaN</td>\n",
       "      <td>NaN</td>\n",
       "      <td>NaN</td>\n",
       "      <td>NaN</td>\n",
       "      <td>NaN</td>\n",
       "      <td>NaN</td>\n",
       "      <td>NaN</td>\n",
       "      <td>NaN</td>\n",
       "      <td>NaN</td>\n",
       "    </tr>\n",
       "    <tr>\n",
       "      <th>17</th>\n",
       "      <td>6402</td>\n",
       "      <td>2741</td>\n",
       "      <td>NaN</td>\n",
       "      <td>NaN</td>\n",
       "      <td>NaN</td>\n",
       "      <td>NaN</td>\n",
       "      <td>NaN</td>\n",
       "      <td>NaN</td>\n",
       "      <td>NaN</td>\n",
       "      <td>NaN</td>\n",
       "      <td>NaN</td>\n",
       "      <td>NaN</td>\n",
       "      <td>NaN</td>\n",
       "    </tr>\n",
       "    <tr>\n",
       "      <th>18</th>\n",
       "      <td>6507</td>\n",
       "      <td>2780</td>\n",
       "      <td>NaN</td>\n",
       "      <td>NaN</td>\n",
       "      <td>NaN</td>\n",
       "      <td>NaN</td>\n",
       "      <td>NaN</td>\n",
       "      <td>NaN</td>\n",
       "      <td>NaN</td>\n",
       "      <td>NaN</td>\n",
       "      <td>NaN</td>\n",
       "      <td>NaN</td>\n",
       "      <td>NaN</td>\n",
       "    </tr>\n",
       "    <tr>\n",
       "      <th>19</th>\n",
       "      <td>6533</td>\n",
       "      <td>2792</td>\n",
       "      <td>NaN</td>\n",
       "      <td>NaN</td>\n",
       "      <td>NaN</td>\n",
       "      <td>NaN</td>\n",
       "      <td>NaN</td>\n",
       "      <td>NaN</td>\n",
       "      <td>NaN</td>\n",
       "      <td>NaN</td>\n",
       "      <td>NaN</td>\n",
       "      <td>NaN</td>\n",
       "      <td>NaN</td>\n",
       "    </tr>\n",
       "    <tr>\n",
       "      <th>20</th>\n",
       "      <td>6599</td>\n",
       "      <td>2814</td>\n",
       "      <td>NaN</td>\n",
       "      <td>NaN</td>\n",
       "      <td>NaN</td>\n",
       "      <td>NaN</td>\n",
       "      <td>NaN</td>\n",
       "      <td>NaN</td>\n",
       "      <td>NaN</td>\n",
       "      <td>NaN</td>\n",
       "      <td>NaN</td>\n",
       "      <td>NaN</td>\n",
       "      <td>NaN</td>\n",
       "    </tr>\n",
       "    <tr>\n",
       "      <th>21</th>\n",
       "      <td>6678</td>\n",
       "      <td>2842</td>\n",
       "      <td>NaN</td>\n",
       "      <td>NaN</td>\n",
       "      <td>NaN</td>\n",
       "      <td>NaN</td>\n",
       "      <td>NaN</td>\n",
       "      <td>NaN</td>\n",
       "      <td>NaN</td>\n",
       "      <td>NaN</td>\n",
       "      <td>NaN</td>\n",
       "      <td>NaN</td>\n",
       "      <td>NaN</td>\n",
       "    </tr>\n",
       "    <tr>\n",
       "      <th>22</th>\n",
       "      <td>6717</td>\n",
       "      <td>2856</td>\n",
       "      <td>NaN</td>\n",
       "      <td>NaN</td>\n",
       "      <td>NaN</td>\n",
       "      <td>NaN</td>\n",
       "      <td>NaN</td>\n",
       "      <td>NaN</td>\n",
       "      <td>NaN</td>\n",
       "      <td>NaN</td>\n",
       "      <td>NaN</td>\n",
       "      <td>NaN</td>\n",
       "      <td>NaN</td>\n",
       "    </tr>\n",
       "    <tr>\n",
       "      <th>23</th>\n",
       "      <td>6929</td>\n",
       "      <td>2919</td>\n",
       "      <td>NaN</td>\n",
       "      <td>NaN</td>\n",
       "      <td>NaN</td>\n",
       "      <td>NaN</td>\n",
       "      <td>NaN</td>\n",
       "      <td>NaN</td>\n",
       "      <td>NaN</td>\n",
       "      <td>NaN</td>\n",
       "      <td>NaN</td>\n",
       "      <td>NaN</td>\n",
       "      <td>NaN</td>\n",
       "    </tr>\n",
       "    <tr>\n",
       "      <th>24</th>\n",
       "      <td>7032</td>\n",
       "      <td>2948</td>\n",
       "      <td>NaN</td>\n",
       "      <td>NaN</td>\n",
       "      <td>NaN</td>\n",
       "      <td>NaN</td>\n",
       "      <td>NaN</td>\n",
       "      <td>NaN</td>\n",
       "      <td>NaN</td>\n",
       "      <td>NaN</td>\n",
       "      <td>NaN</td>\n",
       "      <td>NaN</td>\n",
       "      <td>NaN</td>\n",
       "    </tr>\n",
       "  </tbody>\n",
       "</table>\n",
       "</div>"
      ],
      "text/plain": [
       "    Neon, A  Neon, C  Unnamed: 2   Hg, A      Hg  Unnamed: 5    H     H.1  \\\n",
       "0      5331     2182         NaN  4047.0   620.0         NaN    H  2800.0   \n",
       "1      5341     2193         NaN  4358.0  1169.0         NaN    H  1790.0   \n",
       "2      5401     2232         NaN  4916.0  1845.0         NaN    H  1142.0   \n",
       "3      5852     2498         NaN  5461.0  2272.0         NaN    H   716.0   \n",
       "4      5882     2515         NaN  5770.0  2452.0         NaN  NaN     NaN   \n",
       "5      5945     2548         NaN  5791.0  2463.0         NaN  NaN     NaN   \n",
       "6      5976     2561         NaN  6234.0  2673.0         NaN  NaN     NaN   \n",
       "7      6030     2587         NaN  6907.0  2910.0         NaN  NaN     NaN   \n",
       "8      6074     2606         NaN     NaN     NaN         NaN  NaN     NaN   \n",
       "9      6096     2616         NaN     NaN     NaN         NaN  NaN     NaN   \n",
       "10     6143     2635         NaN     NaN     NaN         NaN  NaN     NaN   \n",
       "11     6164     2644         NaN     NaN     NaN         NaN  NaN     NaN   \n",
       "12     6217     2670         NaN     NaN     NaN         NaN  NaN     NaN   \n",
       "13     6267     2690         NaN     NaN     NaN         NaN  NaN     NaN   \n",
       "14     6305     2705         NaN     NaN     NaN         NaN  NaN     NaN   \n",
       "15     6334     2716         NaN     NaN     NaN         NaN  NaN     NaN   \n",
       "16     6383     2736         NaN     NaN     NaN         NaN  NaN     NaN   \n",
       "17     6402     2741         NaN     NaN     NaN         NaN  NaN     NaN   \n",
       "18     6507     2780         NaN     NaN     NaN         NaN  NaN     NaN   \n",
       "19     6533     2792         NaN     NaN     NaN         NaN  NaN     NaN   \n",
       "20     6599     2814         NaN     NaN     NaN         NaN  NaN     NaN   \n",
       "21     6678     2842         NaN     NaN     NaN         NaN  NaN     NaN   \n",
       "22     6717     2856         NaN     NaN     NaN         NaN  NaN     NaN   \n",
       "23     6929     2919         NaN     NaN     NaN         NaN  NaN     NaN   \n",
       "24     7032     2948         NaN     NaN     NaN         NaN  NaN     NaN   \n",
       "\n",
       "    H.2  Unnamed: 9    h   angle  lambda  \n",
       "0   NaN         NaN    h  2656.0     NaN  \n",
       "1   NaN         NaN    h  2551.0     NaN  \n",
       "2   NaN         NaN    h  1973.0     NaN  \n",
       "3   NaN         NaN  NaN     NaN     NaN  \n",
       "4   NaN         NaN  NaN     NaN     NaN  \n",
       "5   NaN         NaN  NaN     NaN     NaN  \n",
       "6   NaN         NaN  NaN     NaN     NaN  \n",
       "7   NaN         NaN  NaN     NaN     NaN  \n",
       "8   NaN         NaN  NaN     NaN     NaN  \n",
       "9   NaN         NaN  NaN     NaN     NaN  \n",
       "10  NaN         NaN  NaN     NaN     NaN  \n",
       "11  NaN         NaN  NaN     NaN     NaN  \n",
       "12  NaN         NaN  NaN     NaN     NaN  \n",
       "13  NaN         NaN  NaN     NaN     NaN  \n",
       "14  NaN         NaN  NaN     NaN     NaN  \n",
       "15  NaN         NaN  NaN     NaN     NaN  \n",
       "16  NaN         NaN  NaN     NaN     NaN  \n",
       "17  NaN         NaN  NaN     NaN     NaN  \n",
       "18  NaN         NaN  NaN     NaN     NaN  \n",
       "19  NaN         NaN  NaN     NaN     NaN  \n",
       "20  NaN         NaN  NaN     NaN     NaN  \n",
       "21  NaN         NaN  NaN     NaN     NaN  \n",
       "22  NaN         NaN  NaN     NaN     NaN  \n",
       "23  NaN         NaN  NaN     NaN     NaN  \n",
       "24  NaN         NaN  NaN     NaN     NaN  "
      ]
     },
     "metadata": {},
     "execution_count": 54
    }
   ],
   "metadata": {}
  },
  {
   "cell_type": "code",
   "execution_count": 55,
   "source": [
    "plt.scatter(Angle, Lambda)"
   ],
   "outputs": [
    {
     "output_type": "execute_result",
     "data": {
      "text/plain": [
       "<matplotlib.collections.PathCollection at 0x14be3798288>"
      ]
     },
     "metadata": {},
     "execution_count": 55
    },
    {
     "output_type": "display_data",
     "data": {
      "image/png": "[encoded data removed]",
      "text/plain": [
       "<Figure size 432x288 with 1 Axes>"
      ]
     },
     "metadata": {
      "needs_background": "light"
     }
    }
   ],
   "metadata": {}
  },
  {
   "cell_type": "code",
   "execution_count": 57,
   "source": [
    "print(Angle)\r\n",
    "print(Lambda)"
   ],
   "outputs": [
    {
     "output_type": "stream",
     "name": "stdout",
     "text": [
      "[2182. 2193. 2232. 2498. 2515. 2548. 2561. 2587. 2606. 2616. 2635. 2644.\n",
      " 2670. 2690. 2705. 2716. 2736. 2741. 2780. 2792. 2814. 2842. 2856. 2919.\n",
      " 2948.  620. 1169. 1845. 2272. 2452. 2463. 2673. 2910.]\n",
      "[5331. 5341. 5401. 5852. 5882. 5945. 5976. 6030. 6074. 6096. 6143. 6164.\n",
      " 6217. 6267. 6305. 6334. 6383. 6402. 6507. 6533. 6599. 6678. 6717. 6929.\n",
      " 7032. 4047. 4358. 4916. 5461. 5770. 5791. 6234. 6907.]\n"
     ]
    }
   ],
   "metadata": {}
  },
  {
   "cell_type": "code",
   "execution_count": 91,
   "source": [
    "def rid(Lambda, m):\r\n",
    "    return 1/(Lambda * (1/4 - 1/((m+3)**2)))"
   ],
   "outputs": [],
   "metadata": {}
  },
  {
   "cell_type": "code",
   "execution_count": 59,
   "source": [
    "def se(a):\r\n",
    "    a = np.array(a)\r\n",
    "    return np.sqrt(((sum(abs(np.mean(a) - a))**2))/len(a))"
   ],
   "outputs": [],
   "metadata": {}
  },
  {
   "cell_type": "code",
   "execution_count": 60,
   "source": [
    "def se_rel(a):\r\n",
    "    return np.sqrt(((sum(abs(np.mean(a) - a))**2))/len(a))/np.mean(a)"
   ],
   "outputs": [],
   "metadata": {}
  },
  {
   "cell_type": "code",
   "execution_count": 74,
   "source": [
    "opt = np.polyfit(Angle, Lambda, 7, full=True)\r\n",
    "plt.figure(figsize=(10,6))\r\n",
    "plt.scatter(Angle, Lambda)\r\n",
    "plt.plot(np.linspace(600, 3000, 1000), np.poly1d(opt[0])(np.linspace(600, 3000, 1000)))\r\n",
    "plt.grid()\r\n",
    "plt.savefig('10.png', dpi = 400)\r\n",
    "plt.show()\r\n",
    "\r\n",
    "opt"
   ],
   "outputs": [
    {
     "output_type": "display_data",
     "data": {
      "image/png": "[encoded data removed]",
      "text/plain": [
       "<Figure size 720x432 with 1 Axes>"
      ]
     },
     "metadata": {
      "needs_background": "light"
     }
    },
    {
     "output_type": "execute_result",
     "data": {
      "text/plain": [
       "(array([ 8.25711965e-20, -1.08246698e-15,  5.99266777e-12, -1.80153116e-08,\n",
       "         3.16258066e-05, -3.19927801e-02,  1.75833632e+01,  7.75955112e+01]),\n",
       " array([410.78856775]),\n",
       " 8,\n",
       " array([2.78629322e+00, 4.67223127e-01, 1.32671860e-01, 2.56002491e-02,\n",
       "        3.91538040e-03, 3.12310678e-04, 1.16809309e-05, 1.33631431e-07]),\n",
       " 7.327471962526033e-15)"
      ]
     },
     "metadata": {},
     "execution_count": 74
    }
   ],
   "metadata": {}
  },
  {
   "cell_type": "code",
   "execution_count": 20,
   "source": [
    "np.sum(abs(opt[3]-opt[0]))"
   ],
   "outputs": [
    {
     "output_type": "execute_result",
     "data": {
      "text/plain": [
       "4831717366.297898"
      ]
     },
     "metadata": {},
     "execution_count": 20
    }
   ],
   "metadata": {}
  },
  {
   "cell_type": "code",
   "execution_count": 83,
   "source": [
    "def approx(x, a6, a5, a4, a3, a2, a1, a0):\r\n",
    "    return a6*x**6+a5*x**5+a4*x**4+a3*x**3+a2*x**2+a1*x+a0\r\n",
    "beta_opt1, beta_cov1 = curve_fit(approx, Angle, Lambda)\r\n",
    "print('opt ', beta_opt1) \r\n",
    "\r\n",
    "\r\n",
    "#получим погрешности для коэффициентов\r\n",
    "print('error ', np.diag(beta_cov1) )\r\n",
    "\r\n",
    "\r\n",
    "residuals1 = lam - approx(an,*beta_opt1)\r\n",
    "fres1 = sum(residuals1**2)\r\n",
    "S_e = np.sqrt(fres1/len(an))\r\n",
    "print('S_e = ', S_e)\r\n",
    "\r\n",
    "# график\r\n",
    "\r\n",
    "fig, ax = plt.subplots(figsize=(10, 6))\r\n",
    "dots = np.arange(500, 3000, 0.1)\r\n",
    "ax.plot(dots, approx(dots, *beta_opt1), 'coral', lw = 2)\r\n",
    "ax.scatter(Angle, Lambda, c = 'r')\r\n",
    "# lgnd = ax.legend([r'$\\lambda(x)$ ={0:.4f} $\\cdot\\;x^{7}$ + {0:.4f} $\\cdot\\;x^{6}$ + {0:.4f} $\\cdot\\;x^{5}$ + {0:.4f} $\\cdot\\;x^{4}$ + {0:.4f} $\\cdot\\;x^{3}$ + {0:.4f} $\\cdot \\; x^{2}$ + {0:.4f} $\\cdot \\; x$ + {0:.4f} '.format(*beta_opt1), 'Data'], loc='upper left', shadow=True)\r\n",
    "\r\n",
    "ax.set_title(r'Scaling $\\lambda(angle)$')\r\n",
    "ax.set_ylabel(r'$\\lambda, \\;\\; \\mathring{A}$')\r\n",
    "ax.set_xlabel(r'Angle, $^{\\circ}С$')\r\n",
    "\r\n",
    "ax.minorticks_on()\r\n",
    "\r\n",
    "ax.grid(which='minor',\r\n",
    "color = 'gray',\r\n",
    "linestyle = ':', linewidth = 0.5)\r\n",
    "\r\n",
    "ax.grid(which='major', linewidth = 0.5)\r\n",
    "# plt.errorbar(Angle, Lambda, fmt = 'ro', markersize = '5', yerr = S_e, capsize = 2, elinewidth = 2, capthick = 1, ecolor = 'violet')\r\n",
    "\r\n",
    "\r\n",
    "\r\n",
    "plt.savefig('Scale.png', dpi=400, quality=100)\r\n",
    "plt.show()"
   ],
   "outputs": [
    {
     "output_type": "stream",
     "name": "stdout",
     "text": [
      "opt  [ 8.37189170e-17 -8.83727391e-13  3.82573803e-09 -8.48211285e-06\n",
      "  1.02311342e-02 -5.73536031e+00  5.20250309e+03]\n",
      "error  [2.30251181e-33 3.13653339e-25 6.91683326e-18 3.98362489e-11\n",
      " 6.52408228e-05 2.65089204e+01 1.56695757e+06]\n",
      "S_e =  33039.354468361635\n"
     ]
    },
    {
     "output_type": "stream",
     "name": "stderr",
     "text": [
      "C:\\Users\\User\\AppData\\Roaming\\Python\\Python37\\site-packages\\ipykernel_launcher.py:39: MatplotlibDeprecationWarning: savefig() got unexpected keyword argument \"quality\" which is no longer supported as of 3.3 and will become an error two minor releases later\n"
     ]
    },
    {
     "output_type": "display_data",
     "data": {
      "image/png": "[encoded data removed]",
      "text/plain": [
       "<Figure size 720x432 with 1 Axes>"
      ]
     },
     "metadata": {
      "needs_background": "light"
     }
    }
   ],
   "metadata": {}
  },
  {
   "cell_type": "code",
   "execution_count": 101,
   "source": [
    "np.poly1d(beta_opt1)(1973)\r\n"
   ],
   "outputs": [
    {
     "output_type": "execute_result",
     "data": {
      "text/plain": [
       "5057.868777921911"
      ]
     },
     "metadata": {},
     "execution_count": 101
    }
   ],
   "metadata": {}
  },
  {
   "cell_type": "code",
   "execution_count": 92,
   "source": [
    "lam_H = [6558.1, 4860.0, 4339.1, 4078.0 ]"
   ],
   "outputs": [],
   "metadata": {}
  },
  {
   "cell_type": "code",
   "execution_count": 96,
   "source": [
    "r = []\r\n",
    "for i in range(4):\r\n",
    "    print('%.1f' %(rid(lam_H[i]/10**8, i)))\r\n",
    "    r.append(rid(lam_H[i]/10**8, i))\r\n",
    "np.mean(r)"
   ],
   "outputs": [
    {
     "output_type": "stream",
     "name": "stdout",
     "text": [
      "109787.9\n",
      "109739.4\n",
      "109744.1\n",
      "110348.2\n"
     ]
    },
    {
     "output_type": "execute_result",
     "data": {
      "text/plain": [
       "109904.88516348065"
      ]
     },
     "metadata": {},
     "execution_count": 96
    }
   ],
   "metadata": {}
  },
  {
   "cell_type": "code",
   "execution_count": 98,
   "source": [
    "se_rel(r)\r\n",
    "np.array(r).std()"
   ],
   "outputs": [
    {
     "output_type": "execute_result",
     "data": {
      "text/plain": [
       "256.6523754853318"
      ]
     },
     "metadata": {},
     "execution_count": 98
    }
   ],
   "metadata": {}
  },
  {
   "cell_type": "code",
   "execution_count": 161,
   "source": [
    "np.mean(r)"
   ],
   "outputs": [
    {
     "output_type": "execute_result",
     "data": {
      "text/plain": [
       "109772.98469099202"
      ]
     },
     "metadata": {},
     "execution_count": 161
    }
   ],
   "metadata": {}
  },
  {
   "cell_type": "code",
   "execution_count": 102,
   "source": [
    "lam_I = [6187.6, 5958.0, 5057.9]"
   ],
   "outputs": [],
   "metadata": {}
  },
  {
   "cell_type": "code",
   "execution_count": 108,
   "source": [
    "nu = 3*10**(18)/np.array(lam_I)\r\n",
    "nu"
   ],
   "outputs": [
    {
     "output_type": "execute_result",
     "data": {
      "text/plain": [
       "array([4.84840649e+14, 5.03524673e+14, 5.93131537e+14])"
      ]
     },
     "metadata": {},
     "execution_count": 108
    }
   ],
   "metadata": {}
  },
  {
   "cell_type": "code",
   "execution_count": 109,
   "source": [
    "en2 = h * (nu[1]-nu[0])/(5*1.6*10**(-19))\r\n",
    "en2"
   ],
   "outputs": [
    {
     "output_type": "execute_result",
     "data": {
      "text/plain": [
       "0.015475206439338106"
      ]
     },
     "metadata": {},
     "execution_count": 109
    }
   ],
   "metadata": {}
  },
  {
   "cell_type": "code",
   "execution_count": 110,
   "source": [
    "en_edge = h*nu[2]/(1.6*10**(-19))\r\n",
    "en_edge"
   ],
   "outputs": [
    {
     "output_type": "execute_result",
     "data": {
      "text/plain": [
       "2.4563319818996026"
      ]
     },
     "metadata": {},
     "execution_count": 110
    }
   ],
   "metadata": {}
  },
  {
   "cell_type": "code",
   "execution_count": 112,
   "source": [
    "en15 = h*nu[0]/(1.6*10**(-19))\r\n",
    "en15"
   ],
   "outputs": [
    {
     "output_type": "execute_result",
     "data": {
      "text/plain": [
       "2.00786759506917"
      ]
     },
     "metadata": {},
     "execution_count": 112
    }
   ],
   "metadata": {}
  },
  {
   "cell_type": "code",
   "execution_count": 113,
   "source": [
    "en10 = h*nu[0]/(1.6*10**(-19))\r\n",
    "en10 "
   ],
   "outputs": [
    {
     "output_type": "execute_result",
     "data": {
      "text/plain": [
       "2.00786759506917"
      ]
     },
     "metadata": {},
     "execution_count": 113
    }
   ],
   "metadata": {}
  },
  {
   "cell_type": "code",
   "execution_count": 114,
   "source": [
    "en1 = 0.027\r\n",
    "en_el = en10 + en1\r\n",
    "en_el"
   ],
   "outputs": [
    {
     "output_type": "execute_result",
     "data": {
      "text/plain": [
       "2.03486759506917"
      ]
     },
     "metadata": {},
     "execution_count": 114
    }
   ],
   "metadata": {}
  },
  {
   "cell_type": "code",
   "execution_count": 115,
   "source": [
    "D1 = en_edge - 0.94\r\n",
    "D1"
   ],
   "outputs": [
    {
     "output_type": "execute_result",
     "data": {
      "text/plain": [
       "1.5163319818996026"
      ]
     },
     "metadata": {},
     "execution_count": 115
    }
   ],
   "metadata": {}
  },
  {
   "cell_type": "code",
   "execution_count": 116,
   "source": [
    "D2 = en_edge - en_el\r\n",
    "D2"
   ],
   "outputs": [
    {
     "output_type": "execute_result",
     "data": {
      "text/plain": [
       "0.4214643868304324"
      ]
     },
     "metadata": {},
     "execution_count": 116
    }
   ],
   "metadata": {}
  },
  {
   "cell_type": "code",
   "execution_count": null,
   "source": [],
   "outputs": [],
   "metadata": {}
  }
 ],
 "metadata": {
  "kernelspec": {
   "name": "python3",
   "display_name": "Python 3.7.4 64-bit"
  },
  "language_info": {
   "codemirror_mode": {
    "name": "ipython",
    "version": 3
   },
   "file_extension": ".py",
   "mimetype": "text/x-python",
   "name": "python",
   "nbconvert_exporter": "python",
   "pygments_lexer": "ipython3",
   "version": "3.7.4"
  },
  "interpreter": {
   "hash": "cbc1630f6ac27d00c9f4ea5ff59d07a3d2920d2fb3e683b05679c37215caa53f"
  }
 },
 "nbformat": 4,
 "nbformat_minor": 4
}
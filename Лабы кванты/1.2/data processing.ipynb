{
 "cells": [
  {
   "cell_type": "code",
   "execution_count": 37,
   "source": [
    "\r\n",
    "import matplotlib.pyplot as plt\r\n",
    "import numpy as np\r\n",
    "import pandas as pd\r\n",
    "from scipy.optimize import curve_fit\r\n",
    "from scipy import optimize\r\n",
    "import matplotlib.ticker as ticker"
   ],
   "outputs": [],
   "metadata": {}
  },
  {
   "cell_type": "code",
   "execution_count": 63,
   "source": [
    "data = pd.read_excel('data.xlsx')\r\n",
    "et = data['Unnamed: 3']\r\n",
    "angle = 1 - np.cos(np.array(data['t']))\r\n",
    "sint = np.sin(data['t'])\r\n",
    "N = 1/np.array(data['k'])\r\n",
    "data"
   ],
   "outputs": [
    {
     "output_type": "execute_result",
     "data": {
      "text/html": [
       "<div>\n",
       "<style scoped>\n",
       "    .dataframe tbody tr th:only-of-type {\n",
       "        vertical-align: middle;\n",
       "    }\n",
       "\n",
       "    .dataframe tbody tr th {\n",
       "        vertical-align: top;\n",
       "    }\n",
       "\n",
       "    .dataframe thead th {\n",
       "        text-align: right;\n",
       "    }\n",
       "</style>\n",
       "<table border=\"1\" class=\"dataframe\">\n",
       "  <thead>\n",
       "    <tr style=\"text-align: right;\">\n",
       "      <th></th>\n",
       "      <th>t</th>\n",
       "      <th>k</th>\n",
       "      <th>er</th>\n",
       "      <th>Unnamed: 3</th>\n",
       "    </tr>\n",
       "  </thead>\n",
       "  <tbody>\n",
       "    <tr>\n",
       "      <th>0</th>\n",
       "      <td>0</td>\n",
       "      <td>774</td>\n",
       "      <td>1</td>\n",
       "      <td>1</td>\n",
       "    </tr>\n",
       "    <tr>\n",
       "      <th>1</th>\n",
       "      <td>10</td>\n",
       "      <td>735</td>\n",
       "      <td>1</td>\n",
       "      <td>1</td>\n",
       "    </tr>\n",
       "    <tr>\n",
       "      <th>2</th>\n",
       "      <td>20</td>\n",
       "      <td>649</td>\n",
       "      <td>4</td>\n",
       "      <td>1</td>\n",
       "    </tr>\n",
       "    <tr>\n",
       "      <th>3</th>\n",
       "      <td>30</td>\n",
       "      <td>603</td>\n",
       "      <td>2</td>\n",
       "      <td>1</td>\n",
       "    </tr>\n",
       "    <tr>\n",
       "      <th>4</th>\n",
       "      <td>40</td>\n",
       "      <td>529</td>\n",
       "      <td>3</td>\n",
       "      <td>1</td>\n",
       "    </tr>\n",
       "    <tr>\n",
       "      <th>5</th>\n",
       "      <td>50</td>\n",
       "      <td>470</td>\n",
       "      <td>3</td>\n",
       "      <td>1</td>\n",
       "    </tr>\n",
       "    <tr>\n",
       "      <th>6</th>\n",
       "      <td>60</td>\n",
       "      <td>433</td>\n",
       "      <td>5</td>\n",
       "      <td>1</td>\n",
       "    </tr>\n",
       "    <tr>\n",
       "      <th>7</th>\n",
       "      <td>70</td>\n",
       "      <td>381</td>\n",
       "      <td>2</td>\n",
       "      <td>1</td>\n",
       "    </tr>\n",
       "    <tr>\n",
       "      <th>8</th>\n",
       "      <td>80</td>\n",
       "      <td>343</td>\n",
       "      <td>2</td>\n",
       "      <td>1</td>\n",
       "    </tr>\n",
       "    <tr>\n",
       "      <th>9</th>\n",
       "      <td>90</td>\n",
       "      <td>310</td>\n",
       "      <td>3</td>\n",
       "      <td>1</td>\n",
       "    </tr>\n",
       "    <tr>\n",
       "      <th>10</th>\n",
       "      <td>100</td>\n",
       "      <td>275</td>\n",
       "      <td>2</td>\n",
       "      <td>1</td>\n",
       "    </tr>\n",
       "    <tr>\n",
       "      <th>11</th>\n",
       "      <td>110</td>\n",
       "      <td>252</td>\n",
       "      <td>3</td>\n",
       "      <td>1</td>\n",
       "    </tr>\n",
       "    <tr>\n",
       "      <th>12</th>\n",
       "      <td>120</td>\n",
       "      <td>234</td>\n",
       "      <td>3</td>\n",
       "      <td>1</td>\n",
       "    </tr>\n",
       "  </tbody>\n",
       "</table>\n",
       "</div>"
      ],
      "text/plain": [
       "      t    k  er  Unnamed: 3\n",
       "0     0  774   1           1\n",
       "1    10  735   1           1\n",
       "2    20  649   4           1\n",
       "3    30  603   2           1\n",
       "4    40  529   3           1\n",
       "5    50  470   3           1\n",
       "6    60  433   5           1\n",
       "7    70  381   2           1\n",
       "8    80  343   2           1\n",
       "9    90  310   3           1\n",
       "10  100  275   2           1\n",
       "11  110  252   3           1\n",
       "12  120  234   3           1"
      ]
     },
     "metadata": {},
     "execution_count": 63
    }
   ],
   "metadata": {}
  },
  {
   "cell_type": "code",
   "execution_count": 75,
   "source": [
    "\r\n",
    "sert = np.array(1/data['t']*(1 - np.cos(data['t']*np.pi/180)))\r\n",
    "sert[0] = 0\r\n",
    "data1 = pd.DataFrame({'sert':sert, 'angle':angle})\r\n",
    "data1\r\n",
    "\r\n"
   ],
   "outputs": [
    {
     "output_type": "execute_result",
     "data": {
      "text/html": [
       "<div>\n",
       "<style scoped>\n",
       "    .dataframe tbody tr th:only-of-type {\n",
       "        vertical-align: middle;\n",
       "    }\n",
       "\n",
       "    .dataframe tbody tr th {\n",
       "        vertical-align: top;\n",
       "    }\n",
       "\n",
       "    .dataframe thead th {\n",
       "        text-align: right;\n",
       "    }\n",
       "</style>\n",
       "<table border=\"1\" class=\"dataframe\">\n",
       "  <thead>\n",
       "    <tr style=\"text-align: right;\">\n",
       "      <th></th>\n",
       "      <th>sert</th>\n",
       "      <th>angle</th>\n",
       "    </tr>\n",
       "  </thead>\n",
       "  <tbody>\n",
       "    <tr>\n",
       "      <th>0</th>\n",
       "      <td>0.000000</td>\n",
       "      <td>0.000000</td>\n",
       "    </tr>\n",
       "    <tr>\n",
       "      <th>5</th>\n",
       "      <td>0.001519</td>\n",
       "      <td>0.035034</td>\n",
       "    </tr>\n",
       "    <tr>\n",
       "      <th>10</th>\n",
       "      <td>0.003015</td>\n",
       "      <td>0.137681</td>\n",
       "    </tr>\n",
       "    <tr>\n",
       "      <th>12</th>\n",
       "      <td>0.004466</td>\n",
       "      <td>0.185819</td>\n",
       "    </tr>\n",
       "    <tr>\n",
       "      <th>7</th>\n",
       "      <td>0.005849</td>\n",
       "      <td>0.366681</td>\n",
       "    </tr>\n",
       "    <tr>\n",
       "      <th>2</th>\n",
       "      <td>0.007144</td>\n",
       "      <td>0.591918</td>\n",
       "    </tr>\n",
       "    <tr>\n",
       "      <th>3</th>\n",
       "      <td>0.008333</td>\n",
       "      <td>0.845749</td>\n",
       "    </tr>\n",
       "    <tr>\n",
       "      <th>8</th>\n",
       "      <td>0.009400</td>\n",
       "      <td>1.110387</td>\n",
       "    </tr>\n",
       "    <tr>\n",
       "      <th>9</th>\n",
       "      <td>0.010329</td>\n",
       "      <td>1.448074</td>\n",
       "    </tr>\n",
       "    <tr>\n",
       "      <th>4</th>\n",
       "      <td>0.011111</td>\n",
       "      <td>1.666938</td>\n",
       "    </tr>\n",
       "    <tr>\n",
       "      <th>1</th>\n",
       "      <td>0.011736</td>\n",
       "      <td>1.839072</td>\n",
       "    </tr>\n",
       "    <tr>\n",
       "      <th>6</th>\n",
       "      <td>0.012200</td>\n",
       "      <td>1.952413</td>\n",
       "    </tr>\n",
       "    <tr>\n",
       "      <th>11</th>\n",
       "      <td>0.012500</td>\n",
       "      <td>1.999021</td>\n",
       "    </tr>\n",
       "  </tbody>\n",
       "</table>\n",
       "</div>"
      ],
      "text/plain": [
       "        sert     angle\n",
       "0   0.000000  0.000000\n",
       "5   0.001519  0.035034\n",
       "10  0.003015  0.137681\n",
       "12  0.004466  0.185819\n",
       "7   0.005849  0.366681\n",
       "2   0.007144  0.591918\n",
       "3   0.008333  0.845749\n",
       "8   0.009400  1.110387\n",
       "9   0.010329  1.448074\n",
       "4   0.011111  1.666938\n",
       "1   0.011736  1.839072\n",
       "6   0.012200  1.952413\n",
       "11  0.012500  1.999021"
      ]
     },
     "metadata": {},
     "execution_count": 75
    }
   ],
   "metadata": {}
  },
  {
   "cell_type": "code",
   "execution_count": 79,
   "source": [
    "def approx(x, a, b):\r\n",
    "    return a * x + b\r\n",
    "\r\n",
    "angle = data1['angle']\r\n",
    "sert = data1['sert']\r\n",
    "\r\n",
    "beta_opt1, beta_cov1 = curve_fit(approx, angle, N, sigma=data['er']/data['k'])\r\n",
    "a = beta_opt1[0]\r\n",
    "b = beta_opt1[1]\r\n",
    "\r\n",
    "\r\n",
    "print('a = ', a)\r\n",
    "print('b = ', b)\r\n",
    "\r\n",
    "\r\n",
    "\r\n",
    "#получим погрешности для коэффициентов\r\n",
    "sigma_a = np.sqrt(beta_cov1[0,0])\r\n",
    "sigma_b = np.sqrt(beta_cov1[1,1])\r\n",
    "\r\n",
    "\r\n",
    "print('sigma_a = ', sigma_a)\r\n",
    "print('sigma_b = ', sigma_b)\r\n",
    "\r\n",
    "\r\n",
    "residuals1 = N - approx(angle,*beta_opt1)\r\n",
    "fres1 = sum(residuals1**2)\r\n",
    "S_e = np.sqrt(fres1/len(angle))\r\n",
    "print('S_e = ', S_e)\r\n",
    "Stand_error = np.sqrt((N * 0.01)**2 + S_e**2)\r\n",
    "\r\n",
    "\r\n",
    "print('Relative S_r a = % ', 100* sigma_a/abs(a))\r\n",
    "print('Relative S_r b = % ', 100* sigma_b/abs(b))\r\n",
    "\r\n",
    "\r\n",
    "\r\n",
    "# график\r\n",
    "fig, ax = plt.subplots(figsize=(10, 6))\r\n",
    "\r\n",
    "ax.plot(angle, approx(angle, *beta_opt1), 'coral', lw = 2)\r\n",
    "\r\n",
    "lgnd = ax.legend([r'1 / N($\\theta$) = %.4f+ %.4f $\\cdot$ (1 - $\\cos(\\theta)$)' %(a,b)], loc='upper left', shadow=True)\r\n",
    "\r\n",
    "ax.set_title(r'1 / N($\\theta$) = 1 / N(0) + A $\\cdot$ (1 - $\\cos(\\theta)$)')\r\n",
    "ax.set_ylabel(r'1 / N($\\theta$) номер канала')\r\n",
    "ax.set_xlabel(r'1 - $\\cos(\\theta)$')\r\n",
    "\r\n",
    "ax.minorticks_on()\r\n",
    "\r\n",
    "ax.grid(which='minor',\r\n",
    "color = 'gray',\r\n",
    "linestyle = ':', linewidth = 0.5)\r\n",
    "ax.grid()\r\n",
    "plt.errorbar(angle, N, fmt = 'ro', markersize = '2', xerr = sert, yerr = Stand_error, capsize =2, elinewidth = 2, capthick = 2, ecolor = 'violet')\r\n",
    "\r\n",
    "plt.savefig('plot.png', dpi=400)\r\n",
    "plt.show()"
   ],
   "outputs": [
    {
     "output_type": "stream",
     "name": "stdout",
     "text": [
      "a =  0.0012442704484184406\n",
      "b =  0.0013141840042823244\n",
      "sigma_a =  4.622707343019137e-05\n",
      "sigma_b =  2.0237019441325868e-05\n",
      "S_e =  0.00017231539587806582\n",
      "Relative S_r a = %  3.715194995505148\n",
      "Relative S_r b = %  1.539892387624768\n"
     ]
    },
    {
     "output_type": "display_data",
     "data": {
      "image/png": "[encoded data removed]",
      "text/plain": [
       "<Figure size 720x432 with 1 Axes>"
      ]
     },
     "metadata": {
      "needs_background": "light"
     }
    }
   ],
   "metadata": {}
  },
  {
   "cell_type": "code",
   "execution_count": 32,
   "source": [
    "print('N(90) = ',1 /approx(1, *beta_opt1))\r\n",
    "sn90 = np.sqrt(sigma_a**2/a**2+sigma_b**2/b**2)*(1 /approx(1, *beta_opt1))\r\n",
    "sn90"
   ],
   "outputs": [
    {
     "output_type": "stream",
     "name": "stdout",
     "text": [
      "N(90) =  390.8609742668572\n"
     ]
    },
    {
     "output_type": "execute_result",
     "data": {
      "text/plain": [
       "15.719193373299602"
      ]
     },
     "metadata": {},
     "execution_count": 32
    }
   ],
   "metadata": {}
  },
  {
   "cell_type": "code",
   "execution_count": 26,
   "source": [
    "print('N(0) = ',1 / b)\r\n",
    "sn0 = 1/b**2*sigma_b\r\n",
    "sn0"
   ],
   "outputs": [
    {
     "output_type": "stream",
     "name": "stdout",
     "text": [
      "N(0) =  760.9284519834798\n"
     ]
    },
    {
     "output_type": "execute_result",
     "data": {
      "text/plain": [
       "11.717479307364593"
      ]
     },
     "metadata": {},
     "execution_count": 26
    }
   ],
   "metadata": {}
  },
  {
   "cell_type": "code",
   "execution_count": 23,
   "source": [
    "Stand_error = np.sqrt((N * 0.01)**2 + S_e**2)\r\n",
    "error90 = Stand_error[10] / approx(1, *beta_opt1)\r\n",
    "error90 * 100"
   ],
   "outputs": [
    {
     "output_type": "error",
     "ename": "IndexError",
     "evalue": "invalid index to scalar variable.",
     "traceback": [
      "\u001b[1;31m---------------------------------------------------------------------------\u001b[0m",
      "\u001b[1;31mIndexError\u001b[0m                                Traceback (most recent call last)",
      "\u001b[1;32m~\\AppData\\Local\\Temp/ipykernel_12788/3876244284.py\u001b[0m in \u001b[0;36m<module>\u001b[1;34m\u001b[0m\n\u001b[0;32m      1\u001b[0m \u001b[0mStand_error\u001b[0m \u001b[1;33m=\u001b[0m \u001b[0mnp\u001b[0m\u001b[1;33m.\u001b[0m\u001b[0msqrt\u001b[0m\u001b[1;33m(\u001b[0m\u001b[0mS_e\u001b[0m\u001b[1;33m**\u001b[0m\u001b[1;36m2\u001b[0m\u001b[1;33m)\u001b[0m\u001b[1;33m\u001b[0m\u001b[1;33m\u001b[0m\u001b[0m\n\u001b[1;32m----> 2\u001b[1;33m \u001b[0merror90\u001b[0m \u001b[1;33m=\u001b[0m \u001b[0mStand_error\u001b[0m\u001b[1;33m[\u001b[0m\u001b[1;36m10\u001b[0m\u001b[1;33m]\u001b[0m \u001b[1;33m/\u001b[0m \u001b[0mapprox\u001b[0m\u001b[1;33m(\u001b[0m\u001b[1;36m1\u001b[0m\u001b[1;33m,\u001b[0m \u001b[1;33m*\u001b[0m\u001b[0mbeta_opt1\u001b[0m\u001b[1;33m)\u001b[0m\u001b[1;33m\u001b[0m\u001b[1;33m\u001b[0m\u001b[0m\n\u001b[0m\u001b[0;32m      3\u001b[0m \u001b[0merror90\u001b[0m \u001b[1;33m*\u001b[0m \u001b[1;36m100\u001b[0m\u001b[1;33m\u001b[0m\u001b[1;33m\u001b[0m\u001b[0m\n",
      "\u001b[1;31mIndexError\u001b[0m: invalid index to scalar variable."
     ]
    }
   ],
   "metadata": {}
  },
  {
   "cell_type": "code",
   "execution_count": 20,
   "source": [
    "error0 = Stand_error[0] / b\r\n",
    "error0 * 100"
   ],
   "outputs": [
    {
     "output_type": "execute_result",
     "data": {
      "text/plain": [
       "13.148773058520089"
      ]
     },
     "metadata": {},
     "execution_count": 20
    }
   ],
   "metadata": {}
  },
  {
   "cell_type": "code",
   "execution_count": 21,
   "source": [
    "error = np.sqrt((error90 * 100)**2 + (error0 * 100)**2)\r\n",
    "error"
   ],
   "outputs": [
    {
     "output_type": "execute_result",
     "data": {
      "text/plain": [
       "14.841577551568761"
      ]
     },
     "metadata": {},
     "execution_count": 21
    }
   ],
   "metadata": {}
  },
  {
   "cell_type": "code",
   "execution_count": 34,
   "source": [
    "662*(390.83)/(760.93-390.83)"
   ],
   "outputs": [
    {
     "output_type": "execute_result",
     "data": {
      "text/plain": [
       "699.079870305323"
      ]
     },
     "metadata": {},
     "execution_count": 34
    }
   ],
   "metadata": {}
  },
  {
   "cell_type": "code",
   "execution_count": 36,
   "source": [
    "699.1*np.sqrt(sigma_a**2/a**2+sigma_b**2/b**2)"
   ],
   "outputs": [
    {
     "output_type": "execute_result",
     "data": {
      "text/plain": [
       "28.115593038897003"
      ]
     },
     "metadata": {},
     "execution_count": 36
    }
   ],
   "metadata": {}
  },
  {
   "cell_type": "code",
   "execution_count": null,
   "source": [],
   "outputs": [],
   "metadata": {}
  }
 ],
 "metadata": {
  "kernelspec": {
   "name": "python3",
   "display_name": "Python 3.7.4 64-bit"
  },
  "language_info": {
   "codemirror_mode": {
    "name": "ipython",
    "version": 3
   },
   "file_extension": ".py",
   "mimetype": "text/x-python",
   "name": "python",
   "nbconvert_exporter": "python",
   "pygments_lexer": "ipython3",
   "version": "3.7.4"
  },
  "interpreter": {
   "hash": "cbc1630f6ac27d00c9f4ea5ff59d07a3d2920d2fb3e683b05679c37215caa53f"
  }
 },
 "nbformat": 4,
 "nbformat_minor": 4
}
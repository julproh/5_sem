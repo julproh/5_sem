{
 "cells": [
  {
   "cell_type": "markdown",
   "source": [
    "### Предварительные сведения"
   ],
   "metadata": {}
  },
  {
   "cell_type": "markdown",
   "source": [
    "Векторные нормы:\n",
    "\n",
    "$||u||_{\\infty} = \\max_i|u_i|$\n",
    "\n",
    "$||u||_1 = \\sum_i |u_i|$\n",
    "\n",
    "$||u||_2 = \\left(\\sum_i |u_i|^2 \\right)^{\\frac{1}{2}}$\n",
    "\n",
    "Матричные нормы:\n",
    "\n",
    "$||A||_{\\infty} = \\max_i \\sum_j |a_{ij}|$\n",
    "\n",
    "$||A||_1 = \\max_j \\sum_i |a_{ij}|$\n",
    "\n",
    "$||A||_2 = \\left(\\max_i \\lambda_i(A A^*) \\right)^{\\frac{1}{2}}$"
   ],
   "metadata": {}
  },
  {
   "cell_type": "markdown",
   "source": [
    "$\\textbf{Контрольный вопрос}$: какова будет вторая норма матрицы, если матрица самосопряженная?\r\n",
    "\r\n",
    "Ваш ответ на контрольный вопрос:  вторая норма будет равна $max_i|\\lambda_i|$"
   ],
   "metadata": {}
  },
  {
   "cell_type": "code",
   "execution_count": 1,
   "source": [
    "import numpy as np\r\n",
    "import numpy.linalg as la\r\n",
    "\r\n",
    "A = np.array([[1,2],[3,4]])\r\n",
    "v = range(0,3)\r\n",
    "Vander = np.vander(v)\r\n",
    "print('norm_1 = ', la.norm(Vander, 1))\r\n",
    "print('norm_2 = ', la.norm(Vander, 2))\r\n",
    "print('norm_inf = ', la.norm(Vander, np.inf))\r\n",
    "Vander"
   ],
   "outputs": [
    {
     "output_type": "stream",
     "name": "stdout",
     "text": [
      "norm_1 =  5.0\n",
      "norm_2 =  4.844958524498339\n",
      "norm_inf =  7.0\n"
     ]
    },
    {
     "output_type": "execute_result",
     "data": {
      "text/plain": [
       "array([[0, 0, 1],\n",
       "       [1, 1, 1],\n",
       "       [4, 2, 1]])"
      ]
     },
     "metadata": {},
     "execution_count": 1
    }
   ],
   "metadata": {}
  },
  {
   "cell_type": "markdown",
   "source": [
    "Обусловленность:\n",
    "$$(A+\\delta A)u = f + \\delta f$$\n",
    "$$\\frac{||\\delta u||}{||u||}\\le \\frac{\\mu}{1-\\mu\\frac{||\\delta A||}{||A||}} \\left(\\frac{||\\delta f||}{||f||}+\\frac{||\\delta A||}{||A||}\\right)$$\n",
    "\n",
    "$\\mu$ - число обусловленности матрицы A, $\\mu(A) = ||A^{-1}||\\cdot||A||$, $\\mu \\ge 1$.\n",
    "\n"
   ],
   "metadata": {}
  },
  {
   "cell_type": "markdown",
   "source": [
    "## Пример проблемы использования метода Гаусса для решения СЛАУ"
   ],
   "metadata": {}
  },
  {
   "cell_type": "code",
   "execution_count": 2,
   "source": [
    "import numpy as np\r\n",
    "import numpy.linalg as la\r\n",
    "\r\n",
    "def gauss( A, b ):\r\n",
    "    n = b.size\r\n",
    "    for k in range(0,n-1):\r\n",
    "        for i in range(k+1,n):\r\n",
    "            if A[i,k]!=0:\r\n",
    "                c = A[i,k]/A[k,k]\r\n",
    "                A[i,k+1:n] = A[i,k+1:n] - c*A[k,k+1:n]\r\n",
    "                b[i] = b[i] - c*b[k]\r\n",
    "                \r\n",
    "    # обратный ход\r\n",
    "    for k in range(n-1,-1,-1):\r\n",
    "        b[k] = (b[k] - np.dot(A[k,k+1:n],b[k+1:n]))/A[k,k];\r\n",
    "    return b\r\n",
    "\r\n",
    "#все числа в представлены как вещественные\r\n",
    "A1 = np.array([[1e-16, 1., -1.], [-1., 2., -1.], [2., -1., 0.]]);\r\n",
    "b1 = np.array([0., 0., 1.]);\r\n",
    "\r\n",
    "A2 = np.array([[2., -1., 0.], [-1., 2., -1.], [1e-16, 1., -1.]])\r\n",
    "b2 = np.array([1., 0., 0.])"
   ],
   "outputs": [],
   "metadata": {}
  },
  {
   "cell_type": "code",
   "execution_count": 3,
   "source": [
    "print(A1)"
   ],
   "outputs": [
    {
     "output_type": "stream",
     "name": "stdout",
     "text": [
      "[[ 1.e-16  1.e+00 -1.e+00]\n",
      " [-1.e+00  2.e+00 -1.e+00]\n",
      " [ 2.e+00 -1.e+00  0.e+00]]\n"
     ]
    }
   ],
   "metadata": {}
  },
  {
   "cell_type": "code",
   "execution_count": 4,
   "source": [
    "print(A2)"
   ],
   "outputs": [
    {
     "output_type": "stream",
     "name": "stdout",
     "text": [
      "[[ 2.e+00 -1.e+00  0.e+00]\n",
      " [-1.e+00  2.e+00 -1.e+00]\n",
      " [ 1.e-16  1.e+00 -1.e+00]]\n"
     ]
    }
   ],
   "metadata": {}
  },
  {
   "cell_type": "code",
   "execution_count": 5,
   "source": [
    "A1 = np.array([[1e-16, 1., -1.], [-1., 2., -1.], [2., -1., 0.]]);\r\n",
    "b1 = np.array([0., 0., 1.]);\r\n",
    "\r\n",
    "A2 = np.array([[2., -1., 0.], [-1., 2., -1.], [1e-16, 1., -1.]])\r\n",
    "b2 = np.array([1., 0., 0.])\r\n",
    "\r\n",
    "print('mu1 = ', la.cond(A1))\r\n",
    "print('mu2 = ', la.cond(A2))\r\n",
    "\r\n",
    "print('u1 = ', gauss(A1, b1))\r\n",
    "#print('u1 = ', la.solve(A1, b1))\r\n",
    "print('u2 = ', gauss(A2, b2))\r\n",
    "#print('u2= ', la.solve(A2, b2))"
   ],
   "outputs": [
    {
     "output_type": "stream",
     "name": "stdout",
     "text": [
      "mu1 =  16.393731622284385\n",
      "mu2 =  16.393731622284392\n",
      "u1 =  [0.55511151 0.25       0.25      ]\n",
      "u2 =  [1. 1. 1.]\n"
     ]
    }
   ],
   "metadata": {}
  },
  {
   "cell_type": "markdown",
   "source": [
    "## Часть 1. LU разложение"
   ],
   "metadata": {}
  },
  {
   "cell_type": "markdown",
   "source": [
    "Задание: \n",
    "\n",
    "реализовать алгоритм решения предыдущей задачи с матрицей A2 с помощью LU-разложение В решении должна выводиться L, U и собственно решение системы. \n",
    "\n",
    "ВАЖНО: реализация метода LU должна быть получена путем небольшой модификации метода gauss!  При это саму реализацию можно разделить на два метода: один метод собственно находит LU разложение (можно сделать переделкой цикла для матрицы A метода gauss), второй метод - непосредственное решение системы с помощью прямого и обратного хода. Ни в каком виде нельзя ползоваться пакетными методами (в частности, la.solve)"
   ],
   "metadata": {}
  },
  {
   "cell_type": "markdown",
   "source": [
    "### LU - разложение с помощью пакета sympy"
   ],
   "metadata": {
    "collapsed": true
   }
  },
  {
   "cell_type": "markdown",
   "source": [
    "Чтобы убедиться, что разложение получено верно, можно воспользоваться скриптом ниже"
   ],
   "metadata": {}
  },
  {
   "cell_type": "code",
   "execution_count": 81,
   "source": [
    "\r\n",
    "A2 = np.array([[2., -1., 0.], [-1., 2., -1.], [1e-16, 1., -1.]])\r\n",
    "b2 = np.array([1., 0., 0.])\r\n",
    "\r\n",
    "def LU(A):\r\n",
    "    n = len(A[0])\r\n",
    "    U = np.zeros((n,n))\r\n",
    "    U = A\r\n",
    "    L = np.zeros((n,n))\r\n",
    "\r\n",
    "    for i in range(n):\r\n",
    "       for j in range(i+1):\r\n",
    "           L[i][j]=U[i][j]/U[j][j]\r\n",
    "    \r\n",
    "    for k in range(1, n):\r\n",
    "        for i in range(k-1, n):\r\n",
    "            for j in range(i, n):\r\n",
    "                L[j][i] = U[j][i]/U[i][i]\r\n",
    "        for i in range(k, n):\r\n",
    "            for j in range(k-1, n):\r\n",
    "                U[i][j] -=L[i][k-1]*U[k-1][j]\r\n",
    "    return (L, U)\r\n",
    "\r\n",
    "def Ly(L, b):\r\n",
    "\r\n",
    "    #Ly = b\r\n",
    "    n = b.size\r\n",
    "    y = b.copy()\r\n",
    "    for i in range(n):\r\n",
    "        for j in range(i):\r\n",
    "            y[i] = y[i] -  y[j]*L[i][j]\r\n",
    "        y[i] /= L[i][i]\r\n",
    "    return y\r\n",
    "\r\n",
    "def Ux(U, y):\r\n",
    "    #Ux = y\r\n",
    "    n = y.size\r\n",
    "    x = y.copy()\r\n",
    "    x[n-1] /= U[n-1][n-1]\r\n",
    "    for i in np.arange(n-2, -1, -1):\r\n",
    "        for j in range(i+1, n):\r\n",
    "            x[i] -= x[j]*U[i][j]\r\n",
    "        x[i] /= U[i][i]\r\n",
    "    return x\r\n",
    "\r\n",
    "result = LU(A2)\r\n",
    "print('L = \\n', result[0])\r\n",
    "print('U = \\n', result[1])\r\n",
    "y = Ly(result[0], b2)\r\n",
    "x = Ux(result[1], y)\r\n",
    "print('x = ', x)\r\n",
    "\r\n",
    "\r\n"
   ],
   "outputs": [
    {
     "output_type": "stream",
     "name": "stdout",
     "text": [
      "L = \n",
      " [[ 1.00000000e+00  0.00000000e+00  0.00000000e+00]\n",
      " [-5.00000000e-01  1.00000000e+00  0.00000000e+00]\n",
      " [ 5.00000000e-17  6.66666667e-01  1.00000000e+00]]\n",
      "U = \n",
      " [[ 2.         -1.          0.        ]\n",
      " [ 0.          1.5        -1.        ]\n",
      " [ 0.          0.         -0.33333333]]\n",
      "x =  [1. 1. 1.]\n"
     ]
    }
   ],
   "metadata": {}
  },
  {
   "cell_type": "code",
   "execution_count": 10,
   "source": [
    "import sympy as sp\r\n",
    "\r\n",
    "A = sp.Matrix([[2, 3], [5, 4]])\r\n",
    "L, U, _ = A.LUdecomposition()\r\n",
    "U"
   ],
   "outputs": [
    {
     "output_type": "execute_result",
     "data": {
      "text/latex": [
       "$\\displaystyle \\left[\\begin{matrix}2 & 3\\\\0 & - \\frac{7}{2}\\end{matrix}\\right]$"
      ],
      "text/plain": [
       "Matrix([\n",
       "[2,    3],\n",
       "[0, -7/2]])"
      ]
     },
     "metadata": {},
     "execution_count": 10
    }
   ],
   "metadata": {}
  },
  {
   "cell_type": "markdown",
   "source": [
    "## Часть 2. Нахождение обратной матрицы с помощью LU разложения"
   ],
   "metadata": {}
  },
  {
   "cell_type": "markdown",
   "source": [
    "Задание:\r\n",
    "\r\n",
    "Предложить алгоритм с использованием LU-разложения и найти обратную матрицу с точностью $\\epsilon = 10^{-3}$:\r\n",
    "$$\r\n",
    "A = \\begin{pmatrix} \r\n",
    "1 & 1  & 1 \\\\\r\n",
    "0 & 1 & 2 \\\\\r\n",
    "7 & 1 & 4 \\\\\r\n",
    "\\end{pmatrix}\r\n",
    "$$\r\n",
    "Для необходимых оценок использовать первую норму. Сравнить результат со значением, найденным с помощью функции numpy.inv."
   ],
   "metadata": {}
  },
  {
   "cell_type": "code",
   "execution_count": 80,
   "source": [
    "A = np.array([[1,1,1], [0,1,2], [7,1,4]])\r\n",
    "result = LU(A)\r\n",
    "L = result[0]\r\n",
    "U = result[1]\r\n",
    "Y = np.zeros(L.shape)\r\n",
    "invA = np.zeros(L.shape)\r\n",
    "n = len(L[0])\r\n",
    "\r\n",
    "for i in range(n):\r\n",
    "    ei = np.eye(n)[i]\r\n",
    "    Y[i] = Ly(L, ei)  \r\n",
    "\r\n",
    "for i in range(n):\r\n",
    "    invA.T[i] = Ux(U, Y[i])\r\n",
    "\r\n",
    "print('invA = \\n', invA)\r\n"
   ],
   "outputs": [
    {
     "output_type": "stream",
     "name": "stdout",
     "text": [
      "invA = \n",
      " [[ 0.22222222 -0.33333333  0.11111111]\n",
      " [ 1.55555556 -0.33333333 -0.22222222]\n",
      " [-0.77777778  0.66666667  0.11111111]]\n"
     ]
    }
   ],
   "metadata": {}
  },
  {
   "cell_type": "markdown",
   "source": [
    "Полученная матрица линейными преобразованиям приводится, к полученной с помощью функции numpy.inv:\r\n",
    "$$\r\n",
    "A^{-1} = \\begin{pmatrix} \r\n",
    "0.(2) & -0.(3)  & 0.(1) \\\\\r\n",
    "1.(5) & -0.(3) & -0.(2) \\\\\r\n",
    "-0.(7) & 0.(6) & 0.(1) \\\\\r\n",
    "\\end{pmatrix}\r\n",
    "\\sim \\begin{pmatrix} \r\n",
    "0.(2) & -0.(3)  & 0.(1) \\\\\r\n",
    "0 & 0.(9) & 0 \\\\\r\n",
    "-0.(7) & 0.(6) & 0.(1) \\\\\r\n",
    "\\end{pmatrix}\r\n",
    "\\sim \\begin{pmatrix} \r\n",
    "0.(9) & -0.(9)  & 0 \\\\\r\n",
    "0 & 0.(9) & 0 \\\\\r\n",
    "-0.(7) & 0.(6) & 0.(1) \\\\\r\n",
    "\\end{pmatrix}\r\n",
    "$$\r\n",
    "\r\n",
    "$$\r\n",
    "\\sim \\begin{pmatrix} \r\n",
    "0.(9) & 0  & 0 \\\\\r\n",
    "0 & 0.(9) & 0 \\\\\r\n",
    "-0.(7) & 0.(6) & 0.(1) \\\\\r\n",
    "\\end{pmatrix}\r\n",
    "\\sim \\begin{pmatrix} \r\n",
    "0.(9) & 0  & 0 \\\\\r\n",
    "0 & 0.(9) & 0 \\\\\r\n",
    "0 & 0 & 0.(1) \\\\\r\n",
    "\\end{pmatrix}\r\n",
    "\\sim \\begin{pmatrix} \r\n",
    "0.(9) & -1  & 0.(1) \\\\\r\n",
    "0 & 0.(9) & -0.(2) \\\\\r\n",
    "0 & 0 & 0.(1) \\\\\r\n",
    "\\end{pmatrix}\r\n",
    "$$\r\n",
    "Таким образом, получена обратная матрица A^{-1} с необходимой точностью."
   ],
   "metadata": {}
  },
  {
   "cell_type": "code",
   "execution_count": 77,
   "source": [
    "invA_pr = np.array([[0.99999999, -1, 0.11111111], [0, 0.99999999, -0.22222222], [0, 0, 0.11111111]])\r\n",
    "print('||invA||1 = ', la.norm(invA_pr, ord = 1))"
   ],
   "outputs": [
    {
     "output_type": "stream",
     "name": "stdout",
     "text": [
      "||invA||1 =  1.99999999\n"
     ]
    }
   ],
   "metadata": {}
  },
  {
   "cell_type": "code",
   "execution_count": 79,
   "source": [
    "print('np.linalg.inv(A) =\\n', np.linalg.inv(A))\r\n",
    "print('||inv(A)||1 = ', la.norm(np.linalg.inv(A), ord = 1))"
   ],
   "outputs": [
    {
     "output_type": "stream",
     "name": "stdout",
     "text": [
      "np.linalg.inv(A) =\n",
      " [[ 1.         -1.          0.11111111]\n",
      " [ 0.          1.         -0.22222222]\n",
      " [ 0.          0.          0.11111111]]\n",
      "||inv(A)||1 =  2.0\n"
     ]
    }
   ],
   "metadata": {}
  }
 ],
 "metadata": {
  "anaconda-cloud": {},
  "kernelspec": {
   "name": "python3",
   "display_name": "Python 3.7.4 64-bit"
  },
  "language_info": {
   "codemirror_mode": {
    "name": "ipython",
    "version": 3
   },
   "file_extension": ".py",
   "mimetype": "text/x-python",
   "name": "python",
   "nbconvert_exporter": "python",
   "pygments_lexer": "ipython3",
   "version": "3.7.4"
  },
  "interpreter": {
   "hash": "cbc1630f6ac27d00c9f4ea5ff59d07a3d2920d2fb3e683b05679c37215caa53f"
  }
 },
 "nbformat": 4,
 "nbformat_minor": 2
}
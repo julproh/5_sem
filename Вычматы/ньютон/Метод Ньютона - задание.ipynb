{
 "cells": [
  {
   "cell_type": "markdown",
   "source": [
    "### Метод Ньютона"
   ],
   "metadata": {}
  },
  {
   "cell_type": "markdown",
   "source": [
    "Задание\n",
    "\n",
    "1. ответить на все вопросы в скрипте\n",
    "2. изменить код метода Ньютона так, чтобы он смог разрешать все проблемные случаи, возникающие в скрипте, продемонстрировать это, объяснить почему модификация решает проблему. Проблемы - нулевая производная, кратные корни, биения. Для кратных корней надо так модифицировать метод, чтобы порядок оставался вторым и продемонстрировать это.\n",
    "\n",
    "ВАЖНО! Модифицированный метод Ньютона должен получаться путем добавления новых строчек в simple_newton, а не переписыванием его с нуля. Новые строчки надо прокомментировать, зачем они были добавлены."
   ],
   "metadata": {}
  },
  {
   "cell_type": "code",
   "execution_count": 1,
   "source": [
    "# простая реализация Метода Ньютона\r\n",
    "%matplotlib inline \r\n",
    "import matplotlib.pyplot as plt\r\n",
    "import numpy as np\r\n",
    "\r\n",
    "def simple_newton(func, dfunc, x, tol = 1e-12):\r\n",
    "    sol = 0\r\n",
    "    iteration = 0\r\n",
    "    dxs = []\r\n",
    "    for i in range(30):\r\n",
    "        iteration += 1\r\n",
    "        dx = -func(x)/dfunc(x)\r\n",
    "        dxs.append(abs(dx))\r\n",
    "        x = x + dx\r\n",
    "        if abs(dx) < tol:\r\n",
    "            sol = x\r\n",
    "            return [sol, iteration, dxs]\r\n",
    "    sol = float('nan')\r\n",
    "    print('More then 30 iterations!')\r\n",
    "    return [sol, iteration]"
   ],
   "outputs": [],
   "metadata": {}
  },
  {
   "cell_type": "code",
   "execution_count": 140,
   "source": [
    "# модифицированная реализация Метода Ньютона\r\n",
    "\r\n",
    "from scipy.misc import derivative \r\n",
    "def newton_modified(func, dfunc, x, num_root = 1, tol = 1e-12):\r\n",
    "    sol = 0\r\n",
    "    iteration = 0\r\n",
    "    xs = np.zeros(3)\r\n",
    "    xs[0] = x\r\n",
    "    dxs = []\r\n",
    "    for i in range(30):\r\n",
    "        iteration += 1\r\n",
    "        # здесь обрабатываем обращение в 0 первой производной - логика действий описана - ниже\r\n",
    "        if (dfunc(x) != 0):\r\n",
    "            dx = -func(x)/dfunc(x)*num_root # num_root вносит поправку на кратный корень\r\n",
    "        else:\r\n",
    "            d = 0.01\r\n",
    "            while(dfunc(x+d) == 0):\r\n",
    "                d += d\r\n",
    "            dx = -func(x)/dfunc(x+d)*num_root \r\n",
    "            \r\n",
    "        dxs.append(abs(dx))\r\n",
    "        x = x + dx\r\n",
    "\r\n",
    "        # обработка биений\r\n",
    "        if (i < 2) : \r\n",
    "            xs[i+1] = xs[i] + dx\r\n",
    "        else:\r\n",
    "            xs[0] = xs[1]\r\n",
    "            xs[1] = xs[2]\r\n",
    "            xs[2] = x\r\n",
    "        if (xs[0] == xs[2]): # проверяем повторение значения итерационного члена\r\n",
    "            x = (xs[0]+xs[2])\r\n",
    "            iteration = 0 # для запуска итераций заново\r\n",
    "            dx = 1\r\n",
    "            dxs =[]        \r\n",
    "\r\n",
    "        if abs(dx) < tol:\r\n",
    "            sol = x\r\n",
    "            return [sol, iteration, dxs]\r\n",
    "    sol = float('nan')\r\n",
    "    print('More then 30 iterations!')\r\n",
    "    return [sol, iteration, dxs]"
   ],
   "outputs": [],
   "metadata": {}
  },
  {
   "cell_type": "markdown",
   "source": [
    "$\\textbf{Cитуация -} $ $f'(x) = 0 \\; \\textbf{:} \\\\$\r\n",
    "Здесь немного сдвигаем от нуля производную, чтобы была возможность посчитать смещение для итерационного члена.\r\n",
    "$\\\\ \\textbf{Cитуация - кратный корень:} \\\\$ В случае кратного корня каждый множитель вносит свой вклад в сходимость итерационного процесса (производная получается в k раз больше, k - кратность корней), поэтому вводим поправку - k. \r\n",
    "$\\\\ \\textbf{Cитуация - биения:} \\\\$ Проверив, что повторяются иттерационные члены, находим тот, который расположен между ними, так как они колеблются около корня. И затем возобновляем итерационный процесс."
   ],
   "metadata": {}
  },
  {
   "cell_type": "code",
   "execution_count": 135,
   "source": [
    "def plot(x, func, dfunc):\r\n",
    "    y= []\r\n",
    "    solution, iteration, dxs = newton_modified(func, dfunc, x)\r\n",
    "    ddfunc = derivative(dfunc, solution)\r\n",
    "    xn = []\r\n",
    "    xn.append(x)\r\n",
    "    for i in range(1, len(dxs)+1):\r\n",
    "        xn.append( xn[i-1] - dxs[i-1])\r\n",
    "        y.append(np.log((abs(xn[i] - solution)))/np.log(abs((xn[i-1] - solution)*abs(ddfunc/(2*dfunc(solution))))))\r\n",
    "    xs = [i for i in range(1,len(y)+1)]\r\n",
    "    \r\n",
    "    plt.plot(xs, y)\r\n",
    "    plt.grid()\r\n",
    "    plt.xlabel('итерация')\r\n",
    "    plt.ylabel('сходимость')\r\n",
    "    plt.legend()\r\n",
    "    \r\n",
    "    "
   ],
   "outputs": [],
   "metadata": {}
  },
  {
   "cell_type": "markdown",
   "source": [
    "#### Нелинейное уравнение 1"
   ],
   "metadata": {}
  },
  {
   "cell_type": "code",
   "execution_count": 127,
   "source": [
    "x = np.linspace(-2,10)\r\n",
    "func0 = lambda x: x**3 - 10*x**2 + 5\r\n",
    "dfunc0 = lambda x: 3*x**2 - 20*x\r\n",
    "y = func0(x)\r\n",
    "plt.plot(x, y)"
   ],
   "outputs": [
    {
     "output_type": "execute_result",
     "data": {
      "text/plain": [
       "[<matplotlib.lines.Line2D at 0x201637b1788>]"
      ]
     },
     "metadata": {},
     "execution_count": 127
    },
    {
     "output_type": "display_data",
     "data": {
      "image/png": "[encoded data removed]",
      "text/plain": [
       "<Figure size 432x288 with 1 Axes>"
      ]
     },
     "metadata": {
      "needs_background": "light"
     }
    }
   ],
   "metadata": {}
  },
  {
   "cell_type": "markdown",
   "source": [
    "1. Объяснить, почему различаются результаты в случае 1 и 2\r\n",
    "2. Объяснить, что происходит в случае 3\r\n",
    "3. Построить график порядка сходимости от номера итерации. Объяснить результат\r\n",
    "\r\n",
    "$\\bf{Ответ:} \\\\$  \r\n",
    "1 - на отрезке [-2; 10] - данная функция принимает дважды нулевое значение - в окрестности 0 и в окрестности 9, выбирая разные начальные (нулевые) приближения - 8 и 0.7, мы выбираем ту окрестность, в которой метод Ньютона сходится к конкретному нулю - отсюда и получаем разные результаты. $\\\\$\r\n",
    "2 - Рассчет нового итерационного члена происходит по формуле : $x_{n+1} = x_n - \\frac{f(x_n)}{f'(x_n)}$. В данном случае $f'(x_0) = 0 \\Rightarrow$ возникает ошибка при рассчете $x_1. \\\\$\r\n",
    "3 -  Метод Ньютона имеет второй порядок сходимости вне зависимости от иттерации- отсюда плато. Тк нулевое приближние выбирается самостоятельно - отсюда получаем выброс в первой точке. А плато не является функцией $y = 2$ из-за поправки, вносимой константой тк в реальности соотношение имеет вид: $|x_{n+1} - x^*| \\leq C|x_n - x^*|^2$.\r\n"
   ],
   "metadata": {}
  },
  {
   "cell_type": "code",
   "execution_count": 128,
   "source": [
    "data = simple_newton(func0, dfunc0, 8) # случай 1\r\n",
    "# data = simple_newton(func0, dfunc0, 0.7) # случай 2\r\n",
    "# data = simple_newton(func0, dfunc0, 0.0) # случай 3\r\n",
    "print('sol = ', data[0])\r\n",
    "print('iter = ', data[1])"
   ],
   "outputs": [
    {
     "output_type": "stream",
     "name": "stdout",
     "text": [
      "sol =  9.949491057914388\n",
      "iter =  7\n"
     ]
    }
   ],
   "metadata": {}
  },
  {
   "cell_type": "code",
   "execution_count": 129,
   "source": [
    "# data = simple_newton(func0, dfunc0, 8) # случай 1\r\n",
    "# plot(8, func0, dfunc0)\r\n",
    "#data = simple_newton(func0, dfunc0, 0.7) # случай 2\r\n",
    "# plot(0.7, func0, dfunc0)\r\n",
    "data = newton_modified(func0, dfunc0, 0.0) # случай 3\r\n",
    "plot(0, func0, dfunc0)\r\n",
    "print('sol = ', data[0])\r\n",
    "print('iter = ', data[1])"
   ],
   "outputs": [
    {
     "output_type": "stream",
     "name": "stderr",
     "text": [
      "No handles with labels found to put in legend.\n"
     ]
    },
    {
     "output_type": "stream",
     "name": "stdout",
     "text": [
      "sol =  9.949491057914388\n",
      "iter =  10\n"
     ]
    },
    {
     "output_type": "display_data",
     "data": {
      "image/png": "[encoded data removed]",
      "text/plain": [
       "<Figure size 432x288 with 1 Axes>"
      ]
     },
     "metadata": {
      "needs_background": "light"
     }
    }
   ],
   "metadata": {}
  },
  {
   "cell_type": "markdown",
   "source": [
    "#### Нелинейное уравнение 2"
   ],
   "metadata": {}
  },
  {
   "cell_type": "code",
   "execution_count": 130,
   "source": [
    "x = np.linspace(0,5)\r\n",
    "func1 = lambda x: x**4 - 6.4*x**3 + 6.45*x**2 + 20.538*x - 31.752 #double root\r\n",
    "dfunc1 = lambda x: 4.0*x**3 - 19.2*x**2 + 12.9*x + 20.538\r\n",
    "y = func1(x)\r\n",
    "plt.plot(x, y)"
   ],
   "outputs": [
    {
     "output_type": "execute_result",
     "data": {
      "text/plain": [
       "[<matplotlib.lines.Line2D at 0x2016270fa48>]"
      ]
     },
     "metadata": {},
     "execution_count": 130
    },
    {
     "output_type": "display_data",
     "data": {
      "image/png": "[encoded data removed]",
      "text/plain": [
       "<Figure size 432x288 with 1 Axes>"
      ]
     },
     "metadata": {
      "needs_background": "light"
     }
    }
   ],
   "metadata": {}
  },
  {
   "cell_type": "markdown",
   "source": [
    "1. Построить график порядка сходимости от номера итерации. Объяснить результат\r\n",
    "$\\\\ \\textbf{Ответ:}$ обоснование поведения графика аналогично объяснению случая первого уравнения."
   ],
   "metadata": {}
  },
  {
   "cell_type": "code",
   "execution_count": 120,
   "source": [
    "data = simple_newton(func1, dfunc1, 2.0)\r\n",
    "print('sol = ', data[0])\r\n",
    "print('iter = ', data[1])"
   ],
   "outputs": [
    {
     "output_type": "stream",
     "name": "stdout",
     "text": [
      "sol =  2.0999999786199406\n",
      "iter =  23\n"
     ]
    }
   ],
   "metadata": {}
  },
  {
   "cell_type": "code",
   "execution_count": 122,
   "source": [
    "data = newton_modified(func1, dfunc1, 2.0, 2)\r\n",
    "print('sol = ', data[0])\r\n",
    "print('iter = ', data[1])"
   ],
   "outputs": [
    {
     "output_type": "stream",
     "name": "stdout",
     "text": [
      "sol =  2.100000000014807\n",
      "iter =  6\n"
     ]
    }
   ],
   "metadata": {}
  },
  {
   "cell_type": "markdown",
   "source": [
    "#### Нелинейное уравнение 3\r\n"
   ],
   "metadata": {}
  },
  {
   "cell_type": "code",
   "execution_count": 56,
   "source": [
    "x = np.linspace(0,2)\r\n",
    "func2 = lambda x: (x-1)**3\r\n",
    "dfunc2 = lambda x: 3*(x-1)**2\r\n",
    "y = func2(x)\r\n",
    "plt.plot(x, y)"
   ],
   "outputs": [
    {
     "output_type": "execute_result",
     "data": {
      "text/plain": [
       "[<matplotlib.lines.Line2D at 0x201621a3388>]"
      ]
     },
     "metadata": {},
     "execution_count": 56
    },
    {
     "output_type": "display_data",
     "data": {
      "image/png": "[encoded data removed]",
      "text/plain": [
       "<Figure size 432x288 with 1 Axes>"
      ]
     },
     "metadata": {
      "needs_background": "light"
     }
    }
   ],
   "metadata": {}
  },
  {
   "cell_type": "markdown",
   "source": [
    "1. Подобрать начальное приближение и решить задачу"
   ],
   "metadata": {}
  },
  {
   "cell_type": "code",
   "execution_count": 131,
   "source": [
    "data = newton_modified(func2, dfunc2, 0.9 ,3)\r\n",
    "print('sol = ', data[0])\r\n",
    "print('iter = ', data[1])"
   ],
   "outputs": [
    {
     "output_type": "stream",
     "name": "stdout",
     "text": [
      "sol =  1.0\n",
      "iter =  2\n"
     ]
    }
   ],
   "metadata": {}
  },
  {
   "cell_type": "markdown",
   "source": [
    "#### Нелинейное уравнение 4"
   ],
   "metadata": {}
  },
  {
   "cell_type": "code",
   "execution_count": 138,
   "source": [
    "x = np.linspace(-0.5,1.5)\r\n",
    "#x = np.linspace(-5,5)\r\n",
    "func3 = lambda x: x**3 - 2*x + 2\r\n",
    "dfunc3 = lambda x: 3*x**2 - 2\r\n",
    "y = func3(x)\r\n",
    "plt.plot(x, y)"
   ],
   "outputs": [
    {
     "output_type": "execute_result",
     "data": {
      "text/plain": [
       "[<matplotlib.lines.Line2D at 0x20156fc2e88>]"
      ]
     },
     "metadata": {},
     "execution_count": 138
    },
    {
     "output_type": "display_data",
     "data": {
      "image/png": "[encoded data removed]",
      "text/plain": [
       "<Figure size 432x288 with 1 Axes>"
      ]
     },
     "metadata": {
      "needs_background": "light"
     }
    }
   ],
   "metadata": {}
  },
  {
   "cell_type": "markdown",
   "source": [
    "1. Почему не находится решение во втором случае? $\\\\$\r\n",
    "$\\textbf{Ответ: }$ решение во втором случае не сходится из-за \"биений\" - иттерационный член повторяется с некоторой периодичностью и процесс зацикливается."
   ],
   "metadata": {}
  },
  {
   "cell_type": "code",
   "execution_count": 141,
   "source": [
    "# data = simple_newton(func3, dfunc3, 0.5) # случай 1\r\n",
    "\r\n",
    "#data = simple_newton(func3, dfunc3, 0) # случай 2\r\n",
    "data = newton_modified(func3, dfunc3, 0) # случай 2\r\n",
    "print('sol = ', data[0])\r\n",
    "print('iter = ', data[1])"
   ],
   "outputs": [
    {
     "output_type": "stream",
     "name": "stdout",
     "text": [
      "sol =  -1.7692923542386314\n",
      "iter =  10\n"
     ]
    }
   ],
   "metadata": {}
  },
  {
   "cell_type": "code",
   "execution_count": null,
   "source": [],
   "outputs": [],
   "metadata": {}
  }
 ],
 "metadata": {
  "anaconda-cloud": {},
  "kernelspec": {
   "name": "python3",
   "display_name": "Python 3.7.4 64-bit"
  },
  "language_info": {
   "codemirror_mode": {
    "name": "ipython",
    "version": 3
   },
   "file_extension": ".py",
   "mimetype": "text/x-python",
   "name": "python",
   "nbconvert_exporter": "python",
   "pygments_lexer": "ipython3",
   "version": "3.7.4"
  },
  "interpreter": {
   "hash": "cbc1630f6ac27d00c9f4ea5ff59d07a3d2920d2fb3e683b05679c37215caa53f"
  }
 },
 "nbformat": 4,
 "nbformat_minor": 1
}